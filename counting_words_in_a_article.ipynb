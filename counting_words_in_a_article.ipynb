{
  "nbformat": 4,
  "nbformat_minor": 0,
  "metadata": {
    "colab": {
      "provenance": []
    },
    "kernelspec": {
      "name": "python3",
      "display_name": "Python 3"
    },
    "language_info": {
      "name": "python"
    }
  },
  "cells": [
    {
      "cell_type": "code",
      "execution_count": 3,
      "metadata": {
        "id": "Tpdnv2se2oV9"
      },
      "outputs": [],
      "source": [
        "from collections import Counter"
      ]
    },
    {
      "cell_type": "code",
      "source": [
        "text='hello, my name is kunal singh and i am a AI ENGINEER working in appseconnect company.Kunal is my second name also. AI ENGINEER is a great position'\n",
        "text"
      ],
      "metadata": {
        "colab": {
          "base_uri": "https://localhost:8080/",
          "height": 52
        },
        "id": "drDGW0V43Brb",
        "outputId": "738eb4dc-a2be-4454-ffe2-d7e898727e48"
      },
      "execution_count": 2,
      "outputs": [
        {
          "output_type": "execute_result",
          "data": {
            "text/plain": [
              "'hello, my name is kunal singh and i am a AI ENGINEER working in appseconnect company.Kunal is my second name also. AI ENGINEER is a great position'"
            ],
            "application/vnd.google.colaboratory.intrinsic+json": {
              "type": "string"
            }
          },
          "metadata": {},
          "execution_count": 2
        }
      ]
    },
    {
      "cell_type": "code",
      "source": [
        "text2=text.lower()\n",
        "text2"
      ],
      "metadata": {
        "colab": {
          "base_uri": "https://localhost:8080/",
          "height": 52
        },
        "id": "UVn_IoQj3XaG",
        "outputId": "daed7a16-3e2d-4241-fe3d-cb1254016c24"
      },
      "execution_count": 4,
      "outputs": [
        {
          "output_type": "execute_result",
          "data": {
            "text/plain": [
              "'hello, my name is kunal singh and i am a ai engineer working in appseconnect company.kunal is my second name also. ai engineer is a great position'"
            ],
            "application/vnd.google.colaboratory.intrinsic+json": {
              "type": "string"
            }
          },
          "metadata": {},
          "execution_count": 4
        }
      ]
    },
    {
      "cell_type": "code",
      "source": [
        "words=text2.split()\n",
        "words"
      ],
      "metadata": {
        "colab": {
          "base_uri": "https://localhost:8080/"
        },
        "id": "JofRcV6Y3pg-",
        "outputId": "ea45c117-2b37-4f83-8979-f76ec36b5241"
      },
      "execution_count": 5,
      "outputs": [
        {
          "output_type": "execute_result",
          "data": {
            "text/plain": [
              "['hello,',\n",
              " 'my',\n",
              " 'name',\n",
              " 'is',\n",
              " 'kunal',\n",
              " 'singh',\n",
              " 'and',\n",
              " 'i',\n",
              " 'am',\n",
              " 'a',\n",
              " 'ai',\n",
              " 'engineer',\n",
              " 'working',\n",
              " 'in',\n",
              " 'appseconnect',\n",
              " 'company.kunal',\n",
              " 'is',\n",
              " 'my',\n",
              " 'second',\n",
              " 'name',\n",
              " 'also.',\n",
              " 'ai',\n",
              " 'engineer',\n",
              " 'is',\n",
              " 'a',\n",
              " 'great',\n",
              " 'position']"
            ]
          },
          "metadata": {},
          "execution_count": 5
        }
      ]
    },
    {
      "cell_type": "code",
      "source": [
        "word_count = Counter(words)\n",
        "word_count"
      ],
      "metadata": {
        "colab": {
          "base_uri": "https://localhost:8080/"
        },
        "id": "SapkTXct3zVK",
        "outputId": "0d702ac8-ac4c-424c-93ee-7607e3855945"
      },
      "execution_count": 6,
      "outputs": [
        {
          "output_type": "execute_result",
          "data": {
            "text/plain": [
              "Counter({'hello,': 1,\n",
              "         'my': 2,\n",
              "         'name': 2,\n",
              "         'is': 3,\n",
              "         'kunal': 1,\n",
              "         'singh': 1,\n",
              "         'and': 1,\n",
              "         'i': 1,\n",
              "         'am': 1,\n",
              "         'a': 2,\n",
              "         'ai': 2,\n",
              "         'engineer': 2,\n",
              "         'working': 1,\n",
              "         'in': 1,\n",
              "         'appseconnect': 1,\n",
              "         'company.kunal': 1,\n",
              "         'second': 1,\n",
              "         'also.': 1,\n",
              "         'great': 1,\n",
              "         'position': 1})"
            ]
          },
          "metadata": {},
          "execution_count": 6
        }
      ]
    },
    {
      "cell_type": "code",
      "source": [
        "for word, count in word_count.items():\n",
        "    print(f\"{word}: {count}\")"
      ],
      "metadata": {
        "colab": {
          "base_uri": "https://localhost:8080/"
        },
        "id": "nx2sCvvz3-e1",
        "outputId": "36fa1c17-66b0-41e8-ae96-141cff464450"
      },
      "execution_count": 7,
      "outputs": [
        {
          "output_type": "stream",
          "name": "stdout",
          "text": [
            "hello,: 1\n",
            "my: 2\n",
            "name: 2\n",
            "is: 3\n",
            "kunal: 1\n",
            "singh: 1\n",
            "and: 1\n",
            "i: 1\n",
            "am: 1\n",
            "a: 2\n",
            "ai: 2\n",
            "engineer: 2\n",
            "working: 1\n",
            "in: 1\n",
            "appseconnect: 1\n",
            "company.kunal: 1\n",
            "second: 1\n",
            "also.: 1\n",
            "great: 1\n",
            "position: 1\n"
          ]
        }
      ]
    },
    {
      "cell_type": "code",
      "source": [
        "sorted_word_count = word_count.most_common()\n",
        "sorted_word_count"
      ],
      "metadata": {
        "colab": {
          "base_uri": "https://localhost:8080/"
        },
        "id": "naXrz9sO4HX2",
        "outputId": "b3f9641a-84d7-432f-f0c9-ea0089b6393e"
      },
      "execution_count": 8,
      "outputs": [
        {
          "output_type": "execute_result",
          "data": {
            "text/plain": [
              "[('is', 3),\n",
              " ('my', 2),\n",
              " ('name', 2),\n",
              " ('a', 2),\n",
              " ('ai', 2),\n",
              " ('engineer', 2),\n",
              " ('hello,', 1),\n",
              " ('kunal', 1),\n",
              " ('singh', 1),\n",
              " ('and', 1),\n",
              " ('i', 1),\n",
              " ('am', 1),\n",
              " ('working', 1),\n",
              " ('in', 1),\n",
              " ('appseconnect', 1),\n",
              " ('company.kunal', 1),\n",
              " ('second', 1),\n",
              " ('also.', 1),\n",
              " ('great', 1),\n",
              " ('position', 1)]"
            ]
          },
          "metadata": {},
          "execution_count": 8
        }
      ]
    },
    {
      "cell_type": "code",
      "source": [
        "words"
      ],
      "metadata": {
        "colab": {
          "base_uri": "https://localhost:8080/"
        },
        "id": "u2uluSk54eyc",
        "outputId": "3b9ed879-4a5b-4d0a-d883-10283f0735dc"
      },
      "execution_count": 9,
      "outputs": [
        {
          "output_type": "execute_result",
          "data": {
            "text/plain": [
              "['hello,',\n",
              " 'my',\n",
              " 'name',\n",
              " 'is',\n",
              " 'kunal',\n",
              " 'singh',\n",
              " 'and',\n",
              " 'i',\n",
              " 'am',\n",
              " 'a',\n",
              " 'ai',\n",
              " 'engineer',\n",
              " 'working',\n",
              " 'in',\n",
              " 'appseconnect',\n",
              " 'company.kunal',\n",
              " 'is',\n",
              " 'my',\n",
              " 'second',\n",
              " 'name',\n",
              " 'also.',\n",
              " 'ai',\n",
              " 'engineer',\n",
              " 'is',\n",
              " 'a',\n",
              " 'great',\n",
              " 'position']"
            ]
          },
          "metadata": {},
          "execution_count": 9
        }
      ]
    },
    {
      "cell_type": "code",
      "source": [
        "stop_words=['is','are','the','a','i','in','my','am','and']\n",
        "stop_words"
      ],
      "metadata": {
        "colab": {
          "base_uri": "https://localhost:8080/"
        },
        "id": "epCqn-Xe5Pbx",
        "outputId": "c5973aec-ec08-4903-cfaa-d12066d32422"
      },
      "execution_count": 14,
      "outputs": [
        {
          "output_type": "execute_result",
          "data": {
            "text/plain": [
              "['is', 'are', 'the', 'a', 'i', 'in', 'my', 'am', 'and']"
            ]
          },
          "metadata": {},
          "execution_count": 14
        }
      ]
    },
    {
      "cell_type": "code",
      "source": [
        "core_words=[word for word in words if word not in stop_words]\n",
        "core_words"
      ],
      "metadata": {
        "colab": {
          "base_uri": "https://localhost:8080/"
        },
        "id": "k48gmXPW4-6T",
        "outputId": "85bb07fa-7a4d-4dde-c277-296075da1b75"
      },
      "execution_count": 15,
      "outputs": [
        {
          "output_type": "execute_result",
          "data": {
            "text/plain": [
              "['hello,',\n",
              " 'name',\n",
              " 'kunal',\n",
              " 'singh',\n",
              " 'ai',\n",
              " 'engineer',\n",
              " 'working',\n",
              " 'appseconnect',\n",
              " 'company.kunal',\n",
              " 'second',\n",
              " 'name',\n",
              " 'also.',\n",
              " 'ai',\n",
              " 'engineer',\n",
              " 'great',\n",
              " 'position']"
            ]
          },
          "metadata": {},
          "execution_count": 15
        }
      ]
    },
    {
      "cell_type": "code",
      "source": [
        "word_count2=Counter(core_words)\n",
        "word_count2"
      ],
      "metadata": {
        "colab": {
          "base_uri": "https://localhost:8080/"
        },
        "id": "ECqGQh_d5nuo",
        "outputId": "32a60fba-3c39-41fa-9630-436bafed8200"
      },
      "execution_count": 16,
      "outputs": [
        {
          "output_type": "execute_result",
          "data": {
            "text/plain": [
              "Counter({'hello,': 1,\n",
              "         'name': 2,\n",
              "         'kunal': 1,\n",
              "         'singh': 1,\n",
              "         'ai': 2,\n",
              "         'engineer': 2,\n",
              "         'working': 1,\n",
              "         'appseconnect': 1,\n",
              "         'company.kunal': 1,\n",
              "         'second': 1,\n",
              "         'also.': 1,\n",
              "         'great': 1,\n",
              "         'position': 1})"
            ]
          },
          "metadata": {},
          "execution_count": 16
        }
      ]
    },
    {
      "cell_type": "code",
      "source": [
        "sorted(word_count2.items())"
      ],
      "metadata": {
        "colab": {
          "base_uri": "https://localhost:8080/"
        },
        "id": "gPNYPH-uQiU3",
        "outputId": "b87c3eee-c00b-4288-fc65-920029d737cd"
      },
      "execution_count": 31,
      "outputs": [
        {
          "output_type": "execute_result",
          "data": {
            "text/plain": [
              "[('ai', 2),\n",
              " ('also.', 1),\n",
              " ('appseconnect', 1),\n",
              " ('company.kunal', 1),\n",
              " ('engineer', 2),\n",
              " ('great', 1),\n",
              " ('hello,', 1),\n",
              " ('kunal', 1),\n",
              " ('name', 2),\n",
              " ('position', 1),\n",
              " ('second', 1),\n",
              " ('singh', 1),\n",
              " ('working', 1)]"
            ]
          },
          "metadata": {},
          "execution_count": 31
        }
      ]
    },
    {
      "cell_type": "code",
      "source": [
        "dict(sorted(word_count2.items(),reverse=True, key=lambda item: item[1]))"
      ],
      "metadata": {
        "colab": {
          "base_uri": "https://localhost:8080/"
        },
        "id": "mlJ8f6atQ8re",
        "outputId": "31d69ac5-c1d3-47c1-8ba9-34f2bb4e355f"
      },
      "execution_count": 39,
      "outputs": [
        {
          "output_type": "execute_result",
          "data": {
            "text/plain": [
              "{'name': 2,\n",
              " 'ai': 2,\n",
              " 'engineer': 2,\n",
              " 'hello,': 1,\n",
              " 'kunal': 1,\n",
              " 'singh': 1,\n",
              " 'working': 1,\n",
              " 'appseconnect': 1,\n",
              " 'company.kunal': 1,\n",
              " 'second': 1,\n",
              " 'also.': 1,\n",
              " 'great': 1,\n",
              " 'position': 1}"
            ]
          },
          "metadata": {},
          "execution_count": 39
        }
      ]
    },
    {
      "cell_type": "code",
      "source": [
        "my_dict = {'a': 1, 'b': 2, 'c': 3}\n",
        "my_dict"
      ],
      "metadata": {
        "colab": {
          "base_uri": "https://localhost:8080/"
        },
        "id": "mUbJLCwaQ8QH",
        "outputId": "c544b583-a79b-448c-c07a-2165968f5478"
      },
      "execution_count": 40,
      "outputs": [
        {
          "output_type": "execute_result",
          "data": {
            "text/plain": [
              "{'a': 1, 'b': 2, 'c': 3}"
            ]
          },
          "metadata": {},
          "execution_count": 40
        }
      ]
    },
    {
      "cell_type": "code",
      "source": [
        "list1=list(my_dict)\n",
        "list1"
      ],
      "metadata": {
        "colab": {
          "base_uri": "https://localhost:8080/"
        },
        "id": "21xs3z1DSTR6",
        "outputId": "fb9d6b82-02ec-4916-bd8e-0d899d06c2f2"
      },
      "execution_count": 42,
      "outputs": [
        {
          "output_type": "execute_result",
          "data": {
            "text/plain": [
              "['a', 'b', 'c']"
            ]
          },
          "metadata": {},
          "execution_count": 42
        }
      ]
    },
    {
      "cell_type": "code",
      "source": [
        "list2=list(my_dict.items())\n",
        "list2"
      ],
      "metadata": {
        "colab": {
          "base_uri": "https://localhost:8080/"
        },
        "id": "BHQvNq06STKv",
        "outputId": "7b9fcd01-25ad-4638-b69a-8485c03cfc1f"
      },
      "execution_count": 43,
      "outputs": [
        {
          "output_type": "execute_result",
          "data": {
            "text/plain": [
              "[('a', 1), ('b', 2), ('c', 3)]"
            ]
          },
          "metadata": {},
          "execution_count": 43
        }
      ]
    },
    {
      "cell_type": "code",
      "source": [],
      "metadata": {
        "id": "RLbBDc6LSS8o"
      },
      "execution_count": null,
      "outputs": []
    },
    {
      "cell_type": "code",
      "source": [],
      "metadata": {
        "id": "1Xx02H2jSS5W"
      },
      "execution_count": null,
      "outputs": []
    },
    {
      "cell_type": "code",
      "source": [],
      "metadata": {
        "id": "P0L9lYKlQiRm"
      },
      "execution_count": null,
      "outputs": []
    },
    {
      "cell_type": "code",
      "source": [
        "list1=list(word_count2)\n",
        "list1"
      ],
      "metadata": {
        "colab": {
          "base_uri": "https://localhost:8080/"
        },
        "id": "SI4nXlAH6COz",
        "outputId": "8a43648a-7af7-4c6f-ebbc-28b6862c9427"
      },
      "execution_count": 17,
      "outputs": [
        {
          "output_type": "execute_result",
          "data": {
            "text/plain": [
              "['hello,',\n",
              " 'name',\n",
              " 'kunal',\n",
              " 'singh',\n",
              " 'ai',\n",
              " 'engineer',\n",
              " 'working',\n",
              " 'appseconnect',\n",
              " 'company.kunal',\n",
              " 'second',\n",
              " 'also.',\n",
              " 'great',\n",
              " 'position']"
            ]
          },
          "metadata": {},
          "execution_count": 17
        }
      ]
    },
    {
      "cell_type": "code",
      "source": [
        "sorted(list1)"
      ],
      "metadata": {
        "colab": {
          "base_uri": "https://localhost:8080/"
        },
        "id": "jzInq20S6IIl",
        "outputId": "fb180e01-9b96-4d5c-cb40-b3287f8e8540"
      },
      "execution_count": 18,
      "outputs": [
        {
          "output_type": "execute_result",
          "data": {
            "text/plain": [
              "['ai',\n",
              " 'also.',\n",
              " 'appseconnect',\n",
              " 'company.kunal',\n",
              " 'engineer',\n",
              " 'great',\n",
              " 'hello,',\n",
              " 'kunal',\n",
              " 'name',\n",
              " 'position',\n",
              " 'second',\n",
              " 'singh',\n",
              " 'working']"
            ]
          },
          "metadata": {},
          "execution_count": 18
        }
      ]
    },
    {
      "cell_type": "code",
      "source": [
        "sorted(word_count2)"
      ],
      "metadata": {
        "colab": {
          "base_uri": "https://localhost:8080/"
        },
        "id": "tMItnPeg6LeT",
        "outputId": "0d319ea1-5638-4602-fe08-86f8ac6b3b68"
      },
      "execution_count": 19,
      "outputs": [
        {
          "output_type": "execute_result",
          "data": {
            "text/plain": [
              "['ai',\n",
              " 'also.',\n",
              " 'appseconnect',\n",
              " 'company.kunal',\n",
              " 'engineer',\n",
              " 'great',\n",
              " 'hello,',\n",
              " 'kunal',\n",
              " 'name',\n",
              " 'position',\n",
              " 'second',\n",
              " 'singh',\n",
              " 'working']"
            ]
          },
          "metadata": {},
          "execution_count": 19
        }
      ]
    },
    {
      "cell_type": "code",
      "source": [
        "pip install PyMuPDF"
      ],
      "metadata": {
        "colab": {
          "base_uri": "https://localhost:8080/"
        },
        "id": "mck8tcNw7U_-",
        "outputId": "b3f2021c-1f20-4c8b-d300-bd91c5fd8dc3"
      },
      "execution_count": 21,
      "outputs": [
        {
          "output_type": "stream",
          "name": "stdout",
          "text": [
            "Collecting PyMuPDF\n",
            "  Downloading PyMuPDF-1.24.9-cp310-none-manylinux2014_x86_64.whl.metadata (3.4 kB)\n",
            "Collecting PyMuPDFb==1.24.9 (from PyMuPDF)\n",
            "  Downloading PyMuPDFb-1.24.9-py3-none-manylinux2014_x86_64.manylinux_2_17_x86_64.whl.metadata (1.4 kB)\n",
            "Downloading PyMuPDF-1.24.9-cp310-none-manylinux2014_x86_64.whl (3.5 MB)\n",
            "\u001b[2K   \u001b[90m━━━━━━━━━━━━━━━━━━━━━━━━━━━━━━━━━━━━━━━━\u001b[0m \u001b[32m3.5/3.5 MB\u001b[0m \u001b[31m10.7 MB/s\u001b[0m eta \u001b[36m0:00:00\u001b[0m\n",
            "\u001b[?25hDownloading PyMuPDFb-1.24.9-py3-none-manylinux2014_x86_64.manylinux_2_17_x86_64.whl (15.9 MB)\n",
            "\u001b[2K   \u001b[90m━━━━━━━━━━━━━━━━━━━━━━━━━━━━━━━━━━━━━━━━\u001b[0m \u001b[32m15.9/15.9 MB\u001b[0m \u001b[31m39.3 MB/s\u001b[0m eta \u001b[36m0:00:00\u001b[0m\n",
            "\u001b[?25hInstalling collected packages: PyMuPDFb, PyMuPDF\n",
            "Successfully installed PyMuPDF-1.24.9 PyMuPDFb-1.24.9\n"
          ]
        }
      ]
    },
    {
      "cell_type": "code",
      "source": [
        "import fitz"
      ],
      "metadata": {
        "id": "3g2u9jul7Xu8"
      },
      "execution_count": 22,
      "outputs": []
    },
    {
      "cell_type": "code",
      "source": [
        "from google.colab import drive"
      ],
      "metadata": {
        "id": "C_i7ahZT7puQ"
      },
      "execution_count": 25,
      "outputs": []
    },
    {
      "cell_type": "code",
      "source": [
        "drive.mount('/content/drive')"
      ],
      "metadata": {
        "colab": {
          "base_uri": "https://localhost:8080/"
        },
        "id": "111V91QD8LVO",
        "outputId": "e00c9fca-806b-4463-ca76-7f886c3b24a4"
      },
      "execution_count": 26,
      "outputs": [
        {
          "output_type": "stream",
          "name": "stdout",
          "text": [
            "Mounted at /content/drive\n"
          ]
        }
      ]
    },
    {
      "cell_type": "code",
      "source": [
        "text4=fitz.get_text('/content/drive/MyDrive/RESUME_AS_OF_21_JUNE.pdf')\n",
        "text4"
      ],
      "metadata": {
        "colab": {
          "base_uri": "https://localhost:8080/"
        },
        "id": "hwhn1kVs8Rad",
        "outputId": "700e7f8a-f611-4f78-a020-54453889f059"
      },
      "execution_count": 28,
      "outputs": [
        {
          "output_type": "execute_result",
          "data": {
            "text/plain": [
              "[' \\n \\n \\n \\n \\n \\n \\n \\n \\n \\n \\n \\n \\n \\n \\n \\n \\n \\n \\n \\n \\n  \\n \\n \\n \\n \\n \\n \\n \\n1 Speech to Speech Chatbot for Airplane flying school  |   LINK \\n \\n\\uf0be Performed Text Processing to create Question Answer pair Template  \\n \\n\\uf0be Used these Tools and technologies Transformers, Llama-2-7b, NLP, PyTorch, Hugging \\nFace, LoRA, QLoRA, Parameter efficient Fine Tuning(PEFT), Supervised Fine \\nTuning(SFT) \\n \\n\\uf0be Then Re-trained the Llama-2-7b model using hugging face API and dataset I took was,  \\nAirplane Flying Handbook of US Federal Aviation Administration(DOT-FAA). \\n \\n\\uf0be Took prompts in speech medium and then used Speech to text technology to convert speech \\ninto text and then passed the text to our customized chatbot. The chat gave response in text \\nform which I converted it into speech medium using Text to Speech technology. \\n \\n \\nKUNAL KUMAR \\nDATA SCIENTIST \\n \\n \\nPhone No: 9060804108                 \\n \\nEmail: kunal.jcdu@gmail.com    \\n \\nLinkedin | ( Kunal Kumar)              \\n \\nGithub | (SolveKunal)                        \\n \\n SKILLS  SUMMARY \\n   WORK EXPERIENCE \\n \\n \\n \\n \\n \\n \\nDATA ANALYST INTERN   \\nMedTourEasy \\n\\uf0b7 Streamlined Data collection and cleaning procedures, reducing processing time by 20%,   \\nenhancing efficiency. \\n \\n\\uf0b7 Collaborated  with 3+ cross-functional teams to gather information to decide Project scopes \\nand ensure alignment with business objectives. \\n \\n\\uf0b7 Conducted in-depth market research and analysis resulting identification of 5+ key trends \\nand created Dashboard using power BI \\n\\uf0b7 Created API for web application using Fastapi and Uvicorn and hosted the web app using \\nPOSTMAN  \\n   PROJECTS \\n \\nPython, SQL \\nMatplotlib, pandas, numpy, Seaborn, Flask, Postman, Fastapi, visual studio code, \\nTensorFlow, Keras \\nNLP, GenAI Solutions using azure OpenAI, Computer Vision, Article Summarizer, \\nMachine Learning, Supervised Learning, RandomForest, Decision Tree, \\nExploratory Data Analysis, Predictive Analysis, Transfer Learning, Langchain, \\nLoRA, QLoRA, Linear Regression, Logistic Regression, Object Detection \\nLanguages: \\nFrameworks: \\n \\nTechnical \\nSkills: \\n',\n",
              " ' \\n2  Object detection model  |  LINK \\n\\uf0be Used Transfer Learning to get pretrained YOLOv8 model from hugging-face. \\n\\uf0be Improvements done:  \\n1. Added audio to the output which is not present in output of yolov8. \\n2. Calculated distance between objects in the video frame. \\n3. Created circular bounding box instead of rectangular bounding box. \\n \\n 3   Live Dashboard creation \\n\\uf0be Performed Data Cleaning and Exploratory data Analysis in python and then \\ntransferred the cleaned dataset to Power BI. \\n\\uf0be Identified 10+ major trends using Data-Visualization, from the dataset which \\ncontributed to decision-making process. \\n\\uf0be Interactive  Dashboard was built and the link was sent to the University Professor. \\n \\n4   Pneumonia Detection    LINK  \\n\\uf0be Built a CNN network to classify chest X-ray images as pneumonia-affected or normal. \\n\\uf0be Achieved 75.66% accuracy. Plan to improve accuracy by optimizing image size and model \\nparameters. \\n\\uf0be Used these Tools and Technology: CNN, Deep Learning, Transfer Learning, Keras \\n           Tensorflow, VGG-16 \\n \\n5  Sentiment Analysis of 50000 Movie Reviews  \\n\\uf0be Performed Text Processing and extracted Embeddings for each word using Word2Vec and \\nTransformers model.  \\n\\uf0be Then trained a Random-Forest Classifier with  Embeddings as inputs to predict Sentiment of \\neach movie review and do Similar Sentence Search in a supervised technique mode. \\n\\uf0be Using Transformer model I achieved  more similar sentence  searches as here \\nContext Aware Embeddings were used. \\n \\n \\n6  Automation solution for Job Application Filling Process    |   LINK  \\n \\n\\uf0be I extracted text from Resume PDF using PyMuPDF. \\n\\uf0be Then using Regular Expressions extracted Emai, Name, Phone Number, Skills from \\nthe Resume  \\n\\uf0be Extracted details were uploaded to the website using requests. \\n\\uf0be I performed this same task using Neural Network based Transformers using pre-\\ntrained and fine tuned BERT LLM for Named Entity Recognition. However result was \\nnot good. \\n\\uf0be Outcome: Regular Expressions gave far better output than transformers. \\n \\n',\n",
              " ' \\n7  Restaurant Revenue Prediction \\n\\uf0be This project was part of the hackathon organized by Great Learning platform.  \\n\\uf0be Performed Data Cleaning and Exploratory Data Analysis and then built a Random \\nForest Regressor ML model \\n\\uf0be I secured 55 Rank in this Hackathon, with 85.5% accuracy.  \\n\\uf0be However, after the competition was over, I increased the model’s accuracy to 95.5% \\nusing XG-Boost model. \\n \\n \\n \\n\\uf0d8 Post Graduation in Artificial Intelligence and Machine Learning               ( Undergoing ) \\n           University of Texas at Austin \\n \\n\\uf0d8 B-Tech in Electronics and Communication  Engineering                             2014-2018 \\n           Vellore Institute of Technology (VIT Vellore) \\n   EDUCATION \\n']"
            ]
          },
          "metadata": {},
          "execution_count": 28
        }
      ]
    },
    {
      "cell_type": "code",
      "source": [],
      "metadata": {
        "id": "tZazoi17EjWs"
      },
      "execution_count": null,
      "outputs": []
    },
    {
      "cell_type": "code",
      "source": [],
      "metadata": {
        "id": "uSfr68tjEjTC"
      },
      "execution_count": null,
      "outputs": []
    },
    {
      "cell_type": "code",
      "source": [],
      "metadata": {
        "id": "jfspFf19EjQS"
      },
      "execution_count": null,
      "outputs": []
    },
    {
      "cell_type": "code",
      "source": [],
      "metadata": {
        "id": "_E_C3XH4EjNk"
      },
      "execution_count": null,
      "outputs": []
    },
    {
      "cell_type": "code",
      "source": [],
      "metadata": {
        "id": "EuZ9jVeuEjGj"
      },
      "execution_count": null,
      "outputs": []
    },
    {
      "cell_type": "code",
      "source": [],
      "metadata": {
        "id": "iGyV1fLcEi8X"
      },
      "execution_count": null,
      "outputs": []
    },
    {
      "cell_type": "code",
      "source": [],
      "metadata": {
        "id": "4EdOEOwZEiwY"
      },
      "execution_count": null,
      "outputs": []
    },
    {
      "cell_type": "code",
      "source": [
        "text5=text4.load_page(0)\n",
        "text5"
      ],
      "metadata": {
        "colab": {
          "base_uri": "https://localhost:8080/",
          "height": 158
        },
        "id": "uY62JrSU8p60",
        "outputId": "822974db-cddd-421f-d572-abe2404de2e5"
      },
      "execution_count": 29,
      "outputs": [
        {
          "output_type": "error",
          "ename": "AttributeError",
          "evalue": "'list' object has no attribute 'load_page'",
          "traceback": [
            "\u001b[0;31m---------------------------------------------------------------------------\u001b[0m",
            "\u001b[0;31mAttributeError\u001b[0m                            Traceback (most recent call last)",
            "\u001b[0;32m<ipython-input-29-d21dad62ef8d>\u001b[0m in \u001b[0;36m<cell line: 1>\u001b[0;34m()\u001b[0m\n\u001b[0;32m----> 1\u001b[0;31m \u001b[0mtext5\u001b[0m\u001b[0;34m=\u001b[0m\u001b[0mtext4\u001b[0m\u001b[0;34m.\u001b[0m\u001b[0mload_page\u001b[0m\u001b[0;34m(\u001b[0m\u001b[0;36m0\u001b[0m\u001b[0;34m)\u001b[0m\u001b[0;34m\u001b[0m\u001b[0;34m\u001b[0m\u001b[0m\n\u001b[0m\u001b[1;32m      2\u001b[0m \u001b[0mtext5\u001b[0m\u001b[0;34m\u001b[0m\u001b[0;34m\u001b[0m\u001b[0m\n",
            "\u001b[0;31mAttributeError\u001b[0m: 'list' object has no attribute 'load_page'"
          ]
        }
      ]
    },
    {
      "cell_type": "code",
      "source": [],
      "metadata": {
        "id": "9NHDfUScCe9y"
      },
      "execution_count": null,
      "outputs": []
    }
  ]
}